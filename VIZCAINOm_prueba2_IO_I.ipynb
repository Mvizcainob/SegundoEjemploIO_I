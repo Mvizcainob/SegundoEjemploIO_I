{
  "nbformat": 4,
  "nbformat_minor": 0,
  "metadata": {
    "colab": {
      "provenance": [],
      "toc_visible": true,
      "authorship_tag": "ABX9TyOt49ybXlU4kC0EmFt5gMYf",
      "include_colab_link": true
    },
    "kernelspec": {
      "name": "python3",
      "display_name": "Python 3"
    },
    "language_info": {
      "name": "python"
    }
  },
  "cells": [
    {
      "cell_type": "markdown",
      "metadata": {
        "id": "view-in-github",
        "colab_type": "text"
      },
      "source": [
        "<a href=\"https://colab.research.google.com/github/Mvizcainob/SegundoEjemploIO_I/blob/main/VIZCAINOm_prueba2_IO_I.ipynb\" target=\"_parent\"><img src=\"https://colab.research.google.com/assets/colab-badge.svg\" alt=\"Open In Colab\"/></a>"
      ]
    },
    {
      "cell_type": "markdown",
      "source": [
        "# Primer ejercicio\n",
        "\n",
        "## Esto es un subtitulo\n",
        "\n",
        "### Esto es texto normal\n"
      ],
      "metadata": {
        "id": "RpNiB3Fg3thG"
      }
    },
    {
      "cell_type": "code",
      "execution_count": 3,
      "metadata": {
        "colab": {
          "base_uri": "https://localhost:8080/"
        },
        "id": "3ZFldpCI2A1_",
        "outputId": "1972a8dc-b560-4483-c7ff-286813f5ac45"
      },
      "outputs": [
        {
          "output_type": "stream",
          "name": "stdout",
          "text": [
            "Buenos días mundo\n"
          ]
        }
      ],
      "source": [
        "print(\"Buenos días mundo\")"
      ]
    },
    {
      "cell_type": "markdown",
      "source": [
        "# Segundo ejercicio"
      ],
      "metadata": {
        "id": "KLlfKWmF4Ph3"
      }
    },
    {
      "cell_type": "code",
      "source": [
        "print(\"Buenos días, Miguel\")"
      ],
      "metadata": {
        "colab": {
          "base_uri": "https://localhost:8080/"
        },
        "id": "aDpp9lZF4XaG",
        "outputId": "c89f4b28-04c7-4c0f-af6c-f0f39257871a"
      },
      "execution_count": 4,
      "outputs": [
        {
          "output_type": "stream",
          "name": "stdout",
          "text": [
            "Buenos días, Miguel\n"
          ]
        }
      ]
    }
  ]
}